{
 "cells": [
  {
   "cell_type": "code",
   "execution_count": 1,
   "metadata": {},
   "outputs": [
    {
     "name": "stdout",
     "output_type": "stream",
     "text": [
      "Requirement already satisfied: llama_index.core in /home/bam/miniconda3/lib/python3.12/site-packages (0.10.59)\n",
      "Requirement already satisfied: flask in /home/bam/miniconda3/lib/python3.12/site-packages (3.0.3)\n",
      "Requirement already satisfied: python-dotenv in /home/bam/miniconda3/lib/python3.12/site-packages (1.0.1)\n",
      "Requirement already satisfied: llama-index-readers-file in /home/bam/miniconda3/lib/python3.12/site-packages (0.1.32)\n",
      "Requirement already satisfied: llama-index-embeddings-openai in /home/bam/miniconda3/lib/python3.12/site-packages (0.1.10)\n",
      "Requirement already satisfied: llama-index-llms-openai in /home/bam/miniconda3/lib/python3.12/site-packages (0.1.27)\n",
      "Requirement already satisfied: llama-index-vector-stores-milvus in /home/bam/miniconda3/lib/python3.12/site-packages (0.1.22)\n",
      "Requirement already satisfied: pymilvus==2.4.2 in /home/bam/miniconda3/lib/python3.12/site-packages (2.4.2)\n",
      "Requirement already satisfied: setuptools>=67 in /home/bam/miniconda3/lib/python3.12/site-packages (from pymilvus==2.4.2) (69.5.1)\n",
      "Requirement already satisfied: grpcio<=1.60.0,>=1.49.1 in /home/bam/miniconda3/lib/python3.12/site-packages (from pymilvus==2.4.2) (1.60.0)\n",
      "Requirement already satisfied: protobuf>=3.20.0 in /home/bam/miniconda3/lib/python3.12/site-packages (from pymilvus==2.4.2) (4.25.3)\n",
      "Requirement already satisfied: environs<=9.5.0 in /home/bam/miniconda3/lib/python3.12/site-packages (from pymilvus==2.4.2) (9.5.0)\n",
      "Requirement already satisfied: ujson>=2.0.0 in /home/bam/miniconda3/lib/python3.12/site-packages (from pymilvus==2.4.2) (5.10.0)\n",
      "Requirement already satisfied: pandas>=1.2.4 in /home/bam/miniconda3/lib/python3.12/site-packages (from pymilvus==2.4.2) (2.2.2)\n",
      "Requirement already satisfied: milvus-lite<2.5.0,>=2.4.0 in /home/bam/miniconda3/lib/python3.12/site-packages (from pymilvus==2.4.2) (2.4.8)\n",
      "Requirement already satisfied: PyYAML>=6.0.1 in /home/bam/miniconda3/lib/python3.12/site-packages (from llama_index.core) (6.0.1)\n",
      "Requirement already satisfied: SQLAlchemy>=1.4.49 in /home/bam/miniconda3/lib/python3.12/site-packages (from SQLAlchemy[asyncio]>=1.4.49->llama_index.core) (2.0.30)\n",
      "Requirement already satisfied: aiohttp<4.0.0,>=3.8.6 in /home/bam/miniconda3/lib/python3.12/site-packages (from llama_index.core) (3.9.5)\n",
      "Requirement already satisfied: dataclasses-json in /home/bam/miniconda3/lib/python3.12/site-packages (from llama_index.core) (0.6.7)\n",
      "Requirement already satisfied: deprecated>=1.2.9.3 in /home/bam/miniconda3/lib/python3.12/site-packages (from llama_index.core) (1.2.14)\n",
      "Requirement already satisfied: dirtyjson<2.0.0,>=1.0.8 in /home/bam/miniconda3/lib/python3.12/site-packages (from llama_index.core) (1.0.8)\n",
      "Requirement already satisfied: fsspec>=2023.5.0 in /home/bam/miniconda3/lib/python3.12/site-packages (from llama_index.core) (2024.6.0)\n",
      "Requirement already satisfied: httpx in /home/bam/miniconda3/lib/python3.12/site-packages (from llama_index.core) (0.27.0)\n",
      "Requirement already satisfied: nest-asyncio<2.0.0,>=1.5.8 in /home/bam/miniconda3/lib/python3.12/site-packages (from llama_index.core) (1.6.0)\n",
      "Requirement already satisfied: networkx>=3.0 in /home/bam/miniconda3/lib/python3.12/site-packages (from llama_index.core) (3.3)\n",
      "Requirement already satisfied: nltk<4.0.0,>=3.8.1 in /home/bam/miniconda3/lib/python3.12/site-packages (from llama_index.core) (3.8.1)\n",
      "Requirement already satisfied: numpy<2.0.0 in /home/bam/miniconda3/lib/python3.12/site-packages (from llama_index.core) (1.26.4)\n",
      "Requirement already satisfied: openai>=1.1.0 in /home/bam/miniconda3/lib/python3.12/site-packages (from llama_index.core) (1.34.0)\n",
      "Requirement already satisfied: pillow>=9.0.0 in /home/bam/miniconda3/lib/python3.12/site-packages (from llama_index.core) (10.3.0)\n",
      "Requirement already satisfied: requests>=2.31.0 in /home/bam/miniconda3/lib/python3.12/site-packages (from llama_index.core) (2.31.0)\n",
      "Requirement already satisfied: tenacity!=8.4.0,<9.0.0,>=8.2.0 in /home/bam/miniconda3/lib/python3.12/site-packages (from llama_index.core) (8.4.1)\n",
      "Requirement already satisfied: tiktoken>=0.3.3 in /home/bam/miniconda3/lib/python3.12/site-packages (from llama_index.core) (0.7.0)\n",
      "Requirement already satisfied: tqdm<5.0.0,>=4.66.1 in /home/bam/miniconda3/lib/python3.12/site-packages (from llama_index.core) (4.66.2)\n",
      "Requirement already satisfied: typing-extensions>=4.5.0 in /home/bam/miniconda3/lib/python3.12/site-packages (from llama_index.core) (4.12.2)\n",
      "Requirement already satisfied: typing-inspect>=0.8.0 in /home/bam/miniconda3/lib/python3.12/site-packages (from llama_index.core) (0.9.0)\n",
      "Requirement already satisfied: wrapt in /home/bam/miniconda3/lib/python3.12/site-packages (from llama_index.core) (1.16.0)\n",
      "Requirement already satisfied: Werkzeug>=3.0.0 in /home/bam/miniconda3/lib/python3.12/site-packages (from flask) (3.0.3)\n",
      "Requirement already satisfied: Jinja2>=3.1.2 in /home/bam/miniconda3/lib/python3.12/site-packages (from flask) (3.1.4)\n",
      "Requirement already satisfied: itsdangerous>=2.1.2 in /home/bam/miniconda3/lib/python3.12/site-packages (from flask) (2.2.0)\n",
      "Requirement already satisfied: click>=8.1.3 in /home/bam/miniconda3/lib/python3.12/site-packages (from flask) (8.1.7)\n",
      "Requirement already satisfied: blinker>=1.6.2 in /home/bam/miniconda3/lib/python3.12/site-packages (from flask) (1.8.2)\n",
      "Requirement already satisfied: beautifulsoup4<5.0.0,>=4.12.3 in /home/bam/miniconda3/lib/python3.12/site-packages (from llama-index-readers-file) (4.12.3)\n",
      "Requirement already satisfied: pypdf<5.0.0,>=4.0.1 in /home/bam/miniconda3/lib/python3.12/site-packages (from llama-index-readers-file) (4.3.1)\n",
      "Requirement already satisfied: striprtf<0.0.27,>=0.0.26 in /home/bam/miniconda3/lib/python3.12/site-packages (from llama-index-readers-file) (0.0.26)\n",
      "Requirement already satisfied: aiosignal>=1.1.2 in /home/bam/miniconda3/lib/python3.12/site-packages (from aiohttp<4.0.0,>=3.8.6->llama_index.core) (1.3.1)\n",
      "Requirement already satisfied: attrs>=17.3.0 in /home/bam/miniconda3/lib/python3.12/site-packages (from aiohttp<4.0.0,>=3.8.6->llama_index.core) (23.2.0)\n",
      "Requirement already satisfied: frozenlist>=1.1.1 in /home/bam/miniconda3/lib/python3.12/site-packages (from aiohttp<4.0.0,>=3.8.6->llama_index.core) (1.4.1)\n",
      "Requirement already satisfied: multidict<7.0,>=4.5 in /home/bam/miniconda3/lib/python3.12/site-packages (from aiohttp<4.0.0,>=3.8.6->llama_index.core) (6.0.5)\n",
      "Requirement already satisfied: yarl<2.0,>=1.0 in /home/bam/miniconda3/lib/python3.12/site-packages (from aiohttp<4.0.0,>=3.8.6->llama_index.core) (1.9.4)\n",
      "Requirement already satisfied: soupsieve>1.2 in /home/bam/miniconda3/lib/python3.12/site-packages (from beautifulsoup4<5.0.0,>=4.12.3->llama-index-readers-file) (2.5)\n",
      "Requirement already satisfied: marshmallow>=3.0.0 in /home/bam/miniconda3/lib/python3.12/site-packages (from environs<=9.5.0->pymilvus==2.4.2) (3.21.3)\n",
      "Requirement already satisfied: MarkupSafe>=2.0 in /home/bam/miniconda3/lib/python3.12/site-packages (from Jinja2>=3.1.2->flask) (2.1.5)\n",
      "Requirement already satisfied: joblib in /home/bam/miniconda3/lib/python3.12/site-packages (from nltk<4.0.0,>=3.8.1->llama_index.core) (1.4.2)\n",
      "Requirement already satisfied: regex>=2021.8.3 in /home/bam/miniconda3/lib/python3.12/site-packages (from nltk<4.0.0,>=3.8.1->llama_index.core) (2024.5.15)\n",
      "Requirement already satisfied: anyio<5,>=3.5.0 in /home/bam/miniconda3/lib/python3.12/site-packages (from openai>=1.1.0->llama_index.core) (4.4.0)\n",
      "Requirement already satisfied: distro<2,>=1.7.0 in /home/bam/miniconda3/lib/python3.12/site-packages (from openai>=1.1.0->llama_index.core) (1.9.0)\n",
      "Requirement already satisfied: pydantic<3,>=1.9.0 in /home/bam/miniconda3/lib/python3.12/site-packages (from openai>=1.1.0->llama_index.core) (2.7.4)\n",
      "Requirement already satisfied: sniffio in /home/bam/miniconda3/lib/python3.12/site-packages (from openai>=1.1.0->llama_index.core) (1.3.1)\n",
      "Requirement already satisfied: certifi in /home/bam/miniconda3/lib/python3.12/site-packages (from httpx->llama_index.core) (2024.6.2)\n",
      "Requirement already satisfied: httpcore==1.* in /home/bam/miniconda3/lib/python3.12/site-packages (from httpx->llama_index.core) (1.0.5)\n",
      "Requirement already satisfied: idna in /home/bam/miniconda3/lib/python3.12/site-packages (from httpx->llama_index.core) (3.7)\n",
      "Requirement already satisfied: h11<0.15,>=0.13 in /home/bam/miniconda3/lib/python3.12/site-packages (from httpcore==1.*->httpx->llama_index.core) (0.14.0)\n",
      "Requirement already satisfied: python-dateutil>=2.8.2 in /home/bam/miniconda3/lib/python3.12/site-packages (from pandas>=1.2.4->pymilvus==2.4.2) (2.9.0)\n",
      "Requirement already satisfied: pytz>=2020.1 in /home/bam/miniconda3/lib/python3.12/site-packages (from pandas>=1.2.4->pymilvus==2.4.2) (2024.1)\n",
      "Requirement already satisfied: tzdata>=2022.7 in /home/bam/miniconda3/lib/python3.12/site-packages (from pandas>=1.2.4->pymilvus==2.4.2) (2024.1)\n",
      "Requirement already satisfied: charset-normalizer<4,>=2 in /home/bam/miniconda3/lib/python3.12/site-packages (from requests>=2.31.0->llama_index.core) (2.0.4)\n",
      "Requirement already satisfied: urllib3<3,>=1.21.1 in /home/bam/miniconda3/lib/python3.12/site-packages (from requests>=2.31.0->llama_index.core) (2.1.0)\n",
      "Requirement already satisfied: greenlet!=0.4.17 in /home/bam/miniconda3/lib/python3.12/site-packages (from SQLAlchemy>=1.4.49->SQLAlchemy[asyncio]>=1.4.49->llama_index.core) (3.0.3)\n",
      "Requirement already satisfied: mypy-extensions>=0.3.0 in /home/bam/miniconda3/lib/python3.12/site-packages (from typing-inspect>=0.8.0->llama_index.core) (1.0.0)\n",
      "Requirement already satisfied: packaging>=17.0 in /home/bam/miniconda3/lib/python3.12/site-packages (from marshmallow>=3.0.0->environs<=9.5.0->pymilvus==2.4.2) (23.2)\n",
      "Requirement already satisfied: annotated-types>=0.4.0 in /home/bam/miniconda3/lib/python3.12/site-packages (from pydantic<3,>=1.9.0->openai>=1.1.0->llama_index.core) (0.7.0)\n",
      "Requirement already satisfied: pydantic-core==2.18.4 in /home/bam/miniconda3/lib/python3.12/site-packages (from pydantic<3,>=1.9.0->openai>=1.1.0->llama_index.core) (2.18.4)\n",
      "Requirement already satisfied: six>=1.5 in /home/bam/miniconda3/lib/python3.12/site-packages (from python-dateutil>=2.8.2->pandas>=1.2.4->pymilvus==2.4.2) (1.16.0)\n",
      "Note: you may need to restart the kernel to use updated packages.\n"
     ]
    }
   ],
   "source": [
    "%pip install llama_index.core flask python-dotenv llama-index-readers-file llama-index-embeddings-openai llama-index-llms-openai llama-index-vector-stores-milvus pymilvus==2.4.2"
   ]
  },
  {
   "cell_type": "code",
   "execution_count": 2,
   "metadata": {},
   "outputs": [],
   "source": [
    "from flask import Flask, request, render_template\n",
    "from llama_index.core.node_parser import SentenceSplitter\n",
    "from llama_index.core import SimpleDirectoryReader, VectorStoreIndex, StorageContext\n",
    "from llama_index.vector_stores.milvus import MilvusVectorStore\n",
    "from llama_index.core import Settings\n",
    "from dotenv import load_dotenv, find_dotenv\n",
    "import os"
   ]
  },
  {
   "cell_type": "code",
   "execution_count": 3,
   "metadata": {},
   "outputs": [],
   "source": [
    "_ = load_dotenv(find_dotenv())"
   ]
  },
  {
   "cell_type": "code",
   "execution_count": 4,
   "metadata": {},
   "outputs": [],
   "source": [
    "documents = SimpleDirectoryReader(\"./data\").load_data()\n",
    "Settings.text_splitter = SentenceSplitter(chunk_size=1024, chunk_overlap=20)\n",
    "vector_store = MilvusVectorStore(\n",
    "    uri=\"./milvus_genco.db\", dim=1536, overwrite=True\n",
    ")"
   ]
  },
  {
   "cell_type": "code",
   "execution_count": 5,
   "metadata": {},
   "outputs": [],
   "source": [
    "storage_context = StorageContext.from_defaults(vector_store=vector_store)\n",
    "index = VectorStoreIndex.from_documents(\n",
    "    documents, storage_context=storage_context, transformations=[SentenceSplitter(chunk_size=1024, chunk_overlap=20)]\n",
    ")"
   ]
  },
  {
   "cell_type": "code",
   "execution_count": 6,
   "metadata": {},
   "outputs": [],
   "source": [
    "query_engine = index.as_query_engine(similarity_top_k=2, model=\"gpt-4o-mini\")"
   ]
  },
  {
   "cell_type": "code",
   "execution_count": 9,
   "metadata": {},
   "outputs": [
    {
     "name": "stdout",
     "output_type": "stream",
     "text": [
      "President Nelson mentioned that when he was born, there were six functioning temples in the Church, one of which was located in Cardston, Alberta, Canada.\n"
     ]
    }
   ],
   "source": [
    "print( query_engine.query(\"What did President Nelson say about the Cardston Alberta Temple?\"))"
   ]
  },
  {
   "cell_type": "code",
   "execution_count": 7,
   "metadata": {},
   "outputs": [],
   "source": [
    "app = Flask(__name__)"
   ]
  },
  {
   "cell_type": "code",
   "execution_count": 8,
   "metadata": {},
   "outputs": [
    {
     "name": "stdout",
     "output_type": "stream",
     "text": [
      " * Serving Flask app '__main__'\n",
      " * Debug mode: on\n"
     ]
    },
    {
     "name": "stderr",
     "output_type": "stream",
     "text": [
      "\u001b[31m\u001b[1mWARNING: This is a development server. Do not use it in a production deployment. Use a production WSGI server instead.\u001b[0m\n",
      " * Running on all addresses (0.0.0.0)\n",
      " * Running on http://127.0.0.1:5000\n",
      " * Running on http://172.18.167.202:5000\n",
      "\u001b[33mPress CTRL+C to quit\u001b[0m\n",
      " * Restarting with stat\n",
      "Traceback (most recent call last):\n",
      "  File \"<frozen runpy>\", line 198, in _run_module_as_main\n",
      "  File \"<frozen runpy>\", line 88, in _run_code\n",
      "  File \"/home/bam/miniconda3/lib/python3.12/site-packages/ipykernel_launcher.py\", line 18, in <module>\n",
      "    app.launch_new_instance()\n",
      "  File \"/home/bam/miniconda3/lib/python3.12/site-packages/traitlets/config/application.py\", line 1074, in launch_instance\n",
      "    app.initialize(argv)\n",
      "  File \"/home/bam/miniconda3/lib/python3.12/site-packages/traitlets/config/application.py\", line 118, in inner\n",
      "    return method(app, *args, **kwargs)\n",
      "           ^^^^^^^^^^^^^^^^^^^^^^^^^^^^\n",
      "  File \"/home/bam/miniconda3/lib/python3.12/site-packages/ipykernel/kernelapp.py\", line 692, in initialize\n",
      "    self.init_sockets()\n",
      "  File \"/home/bam/miniconda3/lib/python3.12/site-packages/ipykernel/kernelapp.py\", line 331, in init_sockets\n",
      "    self.shell_port = self._bind_socket(self.shell_socket, self.shell_port)\n",
      "                      ^^^^^^^^^^^^^^^^^^^^^^^^^^^^^^^^^^^^^^^^^^^^^^^^^^^^^\n",
      "  File \"/home/bam/miniconda3/lib/python3.12/site-packages/ipykernel/kernelapp.py\", line 253, in _bind_socket\n",
      "    return self._try_bind_socket(s, port)\n",
      "           ^^^^^^^^^^^^^^^^^^^^^^^^^^^^^^\n",
      "  File \"/home/bam/miniconda3/lib/python3.12/site-packages/ipykernel/kernelapp.py\", line 229, in _try_bind_socket\n",
      "    s.bind(\"tcp://%s:%i\" % (self.ip, port))\n",
      "  File \"/home/bam/miniconda3/lib/python3.12/site-packages/zmq/sugar/socket.py\", line 302, in bind\n",
      "    super().bind(addr)\n",
      "  File \"zmq/backend/cython/socket.pyx\", line 564, in zmq.backend.cython.socket.Socket.bind\n",
      "  File \"zmq/backend/cython/checkrc.pxd\", line 28, in zmq.backend.cython.checkrc._check_rc\n",
      "zmq.error.ZMQError: Address already in use (addr='tcp://127.0.0.1:9007')\n"
     ]
    },
    {
     "ename": "SystemExit",
     "evalue": "1",
     "output_type": "error",
     "traceback": [
      "An exception has occurred, use %tb to see the full traceback.\n",
      "\u001b[0;31mSystemExit\u001b[0m\u001b[0;31m:\u001b[0m 1\n"
     ]
    },
    {
     "name": "stderr",
     "output_type": "stream",
     "text": [
      "/home/bam/miniconda3/lib/python3.12/site-packages/IPython/core/interactiveshell.py:3585: UserWarning: To exit: use 'exit', 'quit', or Ctrl-D.\n",
      "  warn(\"To exit: use 'exit', 'quit', or Ctrl-D.\", stacklevel=1)\n"
     ]
    }
   ],
   "source": [
    "app = Flask(__name__)\n",
    "@app.route('/', methods=['GET', 'POST'])\n",
    "def index():\n",
    "    if request.method == 'POST':\n",
    "        query = request.form['query']\n",
    "        response = query_engine.query(query)\n",
    "        return render_template('index.html', query=query, response=response)\n",
    "    return render_template('index.html')\n",
    "if __name__ == '__main__':\n",
    "    port = int(os.environ.get('PORT', 5000))\n",
    "    app.run(host='0.0.0.0', port=port, debug=True)"
   ]
  },
  {
   "cell_type": "code",
   "execution_count": null,
   "metadata": {},
   "outputs": [],
   "source": []
  }
 ],
 "metadata": {
  "kernelspec": {
   "display_name": "base",
   "language": "python",
   "name": "python3"
  },
  "language_info": {
   "codemirror_mode": {
    "name": "ipython",
    "version": 3
   },
   "file_extension": ".py",
   "mimetype": "text/x-python",
   "name": "python",
   "nbconvert_exporter": "python",
   "pygments_lexer": "ipython3",
   "version": "3.12.2"
  }
 },
 "nbformat": 4,
 "nbformat_minor": 2
}
